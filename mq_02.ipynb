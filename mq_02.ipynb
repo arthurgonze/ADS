{
 "cells": [
  {
   "metadata": {},
   "cell_type": "markdown",
   "source": [
    "### Bibliotecas"
   ]
  },
  {
   "metadata": {
    "trusted": true
   },
   "cell_type": "code",
   "source": [
    "%matplotlib inline\n",
    "import numpy as np\n",
    "import pandas as pd\n",
    "import matplotlib.pyplot as plt"
   ],
   "execution_count": 1,
   "outputs": []
  },
  {
   "metadata": {},
   "cell_type": "markdown",
   "source": [
    "-----------------------------------------------------------------\n",
    "### Parte 1"
   ]
  },
  {
   "metadata": {},
   "cell_type": "markdown",
   "source": [
    "#### Importando os dados que serão utilizados para montagem dos gráficos"
   ]
  },
  {
   "metadata": {
    "trusted": true
   },
   "cell_type": "code",
   "source": [
    "dataset = pd.read_csv('Data/healthcare-dataset-stroke-data.csv')\n",
    "dataset.head()\n",
    "dataset = dataset.drop(['id'], axis=1).head()\n",
    "print(dataset.describe())"
   ],
   "execution_count": 2,
   "outputs": [
    {
     "name": "stdout",
     "output_type": "stream",
     "text": [
      "             age  hypertension  heart_disease  avg_glucose_level        bmi  \\\n",
      "count   5.000000      5.000000       5.000000           5.000000   4.000000   \n",
      "mean   67.200000      0.200000       0.400000         176.434000  31.875000   \n",
      "std    12.969194      0.447214       0.547723          45.825081   5.510823   \n",
      "min    49.000000      0.000000       0.000000         105.920000  24.000000   \n",
      "25%    61.000000      0.000000       0.000000         171.230000  30.375000   \n",
      "50%    67.000000      0.000000       0.000000         174.120000  33.450000   \n",
      "75%    79.000000      0.000000       1.000000         202.210000  34.950000   \n",
      "max    80.000000      1.000000       1.000000         228.690000  36.600000   \n",
      "\n",
      "       stroke  \n",
      "count     5.0  \n",
      "mean      1.0  \n",
      "std       0.0  \n",
      "min       1.0  \n",
      "25%       1.0  \n",
      "50%       1.0  \n",
      "75%       1.0  \n",
      "max       1.0  \n"
     ]
    }
   ]
  },
  {
   "metadata": {},
   "cell_type": "markdown",
   "source": [
    "#### Função de Distribuição Cumulativa - Variáveis Discretas ou Contínuas"
   ]
  },
  {
   "metadata": {
    "trusted": true
   },
   "cell_type": "code",
   "source": [
    "def cdf(dados):\n",
    "  print(\"Your name is:\"+dados)"
   ],
   "execution_count": 3,
   "outputs": []
  },
  {
   "metadata": {},
   "cell_type": "markdown",
   "source": [
    "#### Função de Massa de Probabilidade - Variáveis Discretas"
   ]
  },
  {
   "metadata": {},
   "cell_type": "markdown",
   "source": [
    "Associa cada valor de uma v.a. (eixo x) a uma probabilidade (eixo y)"
   ]
  },
  {
   "metadata": {
    "trusted": true
   },
   "cell_type": "code",
   "source": [
    "def pmf(dados):\n",
    "  print(\"Your name is:\"+dados)"
   ],
   "execution_count": 4,
   "outputs": []
  },
  {
   "metadata": {},
   "cell_type": "markdown",
   "source": "#### Utilizando as funções definidas"
  },
  {
   "metadata": {
    "trusted": true
   },
   "cell_type": "code",
   "source": "usuario = input(\"Insira seu nome: \")",
   "execution_count": 5,
   "outputs": []
  },
  {
   "metadata": {},
   "cell_type": "markdown",
   "source": "-----------------------------------------------------------------\n### Parte 2"
  },
  {
   "metadata": {
    "trusted": true
   },
   "cell_type": "code",
   "source": "",
   "execution_count": 5,
   "outputs": []
  }
 ],
 "metadata": {
  "kernelspec": {
   "name": "python3",
   "display_name": "Python 3",
   "language": "python"
  },
  "language_info": {
   "name": "python",
   "version": "3.7.8",
   "mimetype": "text/x-python",
   "codemirror_mode": {
    "name": "ipython",
    "version": 3
   },
   "pygments_lexer": "ipython3",
   "nbconvert_exporter": "python",
   "file_extension": ".py"
  }
 },
 "nbformat": 4,
 "nbformat_minor": 4
}